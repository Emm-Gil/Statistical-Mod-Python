{
 "cells": [
  {
   "cell_type": "code",
   "execution_count": 3,
   "metadata": {},
   "outputs": [],
   "source": [
    "import pandas as pd\n",
    "import requests\n",
    "import time"
   ]
  },
  {
   "cell_type": "markdown",
   "metadata": {},
   "source": [
    "# Foursquare"
   ]
  },
  {
   "cell_type": "markdown",
   "metadata": {},
   "source": [
    "Send a request to Foursquare with a small radius (1000m) for all the bike stations in your city of choice. "
   ]
  },
  {
   "cell_type": "code",
   "execution_count": 54,
   "metadata": {},
   "outputs": [
    {
     "name": "stdout",
     "output_type": "stream",
     "text": [
      "Collecting python-dotenv\n",
      "  Downloading python_dotenv-1.1.1-py3-none-any.whl.metadata (24 kB)\n",
      "Downloading python_dotenv-1.1.1-py3-none-any.whl (20 kB)\n",
      "Installing collected packages: python-dotenv\n",
      "Successfully installed python-dotenv-1.1.1\n"
     ]
    }
   ],
   "source": [
    "!pip install python-dotenv"
   ]
  },
  {
   "cell_type": "code",
   "execution_count": null,
   "metadata": {},
   "outputs": [],
   "source": [
    "import pandas as pd\n",
    "import requests\n",
    "import time"
   ]
  },
  {
   "cell_type": "code",
   "execution_count": 55,
   "metadata": {},
   "outputs": [],
   "source": [
    "from dotenv import load_dotenv\n",
    "import os\n",
    "\n",
    "load_dotenv()\n",
    "FS_API_KEY = os.getenv(\"FS_API_KEY\")\n",
    "\n",
    "bike_stations_philly = pd.read_csv(\"../data/philly.csv\")\n",
    "bike_stations_philly\n",
    "\n",
    "# Step 2: Prepare the API request\n",
    "url = \"https://places-api.foursquare.com/places/search\"\n",
    "headers = {\n",
    "    \"Authorization\": f\"Bearer {FS_API_KEY}\",\n",
    "    \"X-Places-API-Version\": \"2025-06-17\"\n",
    "}\n",
    "\n",
    "all_results = []\n",
    "\n",
    "# Step 3: Loop over each station\n",
    "for i, row in bike_stations_philly.iterrows():\n",
    "    lat, lon = row['latitude'], row['longitude']\n",
    "    params = {\n",
    "        \"ll\": f\"{lat},{lon}\",\n",
    "        \"radius\": 1000,\n",
    "        \"limit\": 10\n",
    "    }\n",
    "    \n",
    "    response = requests.get(url, headers=headers, params=params)\n",
    "    data = response.json()\n",
    "    \n",
    "    for place in data.get(\"results\", []):\n",
    "        place[\"station_name\"] = row[\"name\"]\n",
    "        all_results.append(place)\n",
    "        "
   ]
  },
  {
   "cell_type": "markdown",
   "metadata": {},
   "source": [
    "Parse through the response to get the POI (such as restaurants, bars, etc) details you want (ratings, name, location, etc)"
   ]
  },
  {
   "cell_type": "code",
   "execution_count": 28,
   "metadata": {},
   "outputs": [],
   "source": [
    "POI_results = []\n",
    "\n",
    "for place in all_results:\n",
    "    categories = place.get(\"categories\")\n",
    "    if categories and len(categories) > 0:\n",
    "        category_name = categories[0].get(\"name\", \"Unknown\")\n",
    "    else:\n",
    "        category_name = \"Unknown\"\n",
    "    \n",
    "    parsed = {\n",
    "        \"station_name\": place.get(\"station_name\"),\n",
    "        \"place_name\": place.get(\"name\"),\n",
    "        \"latitude\": place.get(\"latitude\"),\n",
    "        \"longitude\": place.get(\"longitude\"),\n",
    "        \"address\": place.get(\"location\", {}).get(\"formatted_address\"),\n",
    "        \"distance_m\": place.get(\"distance\"),\n",
    "        \"category\": category_name\n",
    "    }\n",
    "    POI_results.append(parsed)"
   ]
  },
  {
   "cell_type": "markdown",
   "metadata": {},
   "source": [
    "Put your parsed results into a DataFrame"
   ]
  },
  {
   "cell_type": "code",
   "execution_count": 29,
   "metadata": {},
   "outputs": [
    {
     "data": {
      "text/html": [
       "<div>\n",
       "<style scoped>\n",
       "    .dataframe tbody tr th:only-of-type {\n",
       "        vertical-align: middle;\n",
       "    }\n",
       "\n",
       "    .dataframe tbody tr th {\n",
       "        vertical-align: top;\n",
       "    }\n",
       "\n",
       "    .dataframe thead th {\n",
       "        text-align: right;\n",
       "    }\n",
       "</style>\n",
       "<table border=\"1\" class=\"dataframe\">\n",
       "  <thead>\n",
       "    <tr style=\"text-align: right;\">\n",
       "      <th></th>\n",
       "      <th>station_name</th>\n",
       "      <th>place_name</th>\n",
       "      <th>latitude</th>\n",
       "      <th>longitude</th>\n",
       "      <th>address</th>\n",
       "      <th>distance_m</th>\n",
       "      <th>category</th>\n",
       "    </tr>\n",
       "  </thead>\n",
       "  <tbody>\n",
       "    <tr>\n",
       "      <th>0</th>\n",
       "      <td>Ridge &amp; Heritage</td>\n",
       "      <td>Schuykill River Trail</td>\n",
       "      <td>40.008748</td>\n",
       "      <td>-75.195214</td>\n",
       "      <td>Philadelphia, PA 19127</td>\n",
       "      <td>223</td>\n",
       "      <td>Hiking Trail</td>\n",
       "    </tr>\n",
       "    <tr>\n",
       "      <th>1</th>\n",
       "      <td>Ridge &amp; Heritage</td>\n",
       "      <td>Dunkin'</td>\n",
       "      <td>40.009403</td>\n",
       "      <td>-75.196519</td>\n",
       "      <td>4268 Ridge Ave, Philadelphia, PA 19129</td>\n",
       "      <td>99</td>\n",
       "      <td>Donut Shop</td>\n",
       "    </tr>\n",
       "    <tr>\n",
       "      <th>2</th>\n",
       "      <td>Ridge &amp; Heritage</td>\n",
       "      <td>Thunder Mug Cafe</td>\n",
       "      <td>40.009411</td>\n",
       "      <td>-75.194689</td>\n",
       "      <td>4233 Ridge Ave, Philadelphia, PA 19129</td>\n",
       "      <td>216</td>\n",
       "      <td>Coffee Shop</td>\n",
       "    </tr>\n",
       "    <tr>\n",
       "      <th>3</th>\n",
       "      <td>Ridge &amp; Heritage</td>\n",
       "      <td>Shan Chuan</td>\n",
       "      <td>40.009166</td>\n",
       "      <td>-75.194114</td>\n",
       "      <td>4211 Ridge Ave (Midvale Ave.), Philadelphia, P...</td>\n",
       "      <td>272</td>\n",
       "      <td>Chinese Restaurant</td>\n",
       "    </tr>\n",
       "    <tr>\n",
       "      <th>4</th>\n",
       "      <td>Ridge &amp; Heritage</td>\n",
       "      <td>LeBus East Falls</td>\n",
       "      <td>40.008862</td>\n",
       "      <td>-75.193664</td>\n",
       "      <td>4201 Ridge Ave (Indian Queen Lane), Philadelph...</td>\n",
       "      <td>321</td>\n",
       "      <td>New American Restaurant</td>\n",
       "    </tr>\n",
       "  </tbody>\n",
       "</table>\n",
       "</div>"
      ],
      "text/plain": [
       "       station_name             place_name   latitude  longitude  \\\n",
       "0  Ridge & Heritage  Schuykill River Trail  40.008748 -75.195214   \n",
       "1  Ridge & Heritage                Dunkin'  40.009403 -75.196519   \n",
       "2  Ridge & Heritage       Thunder Mug Cafe  40.009411 -75.194689   \n",
       "3  Ridge & Heritage             Shan Chuan  40.009166 -75.194114   \n",
       "4  Ridge & Heritage       LeBus East Falls  40.008862 -75.193664   \n",
       "\n",
       "                                             address  distance_m  \\\n",
       "0                             Philadelphia, PA 19127         223   \n",
       "1             4268 Ridge Ave, Philadelphia, PA 19129          99   \n",
       "2             4233 Ridge Ave, Philadelphia, PA 19129         216   \n",
       "3  4211 Ridge Ave (Midvale Ave.), Philadelphia, P...         272   \n",
       "4  4201 Ridge Ave (Indian Queen Lane), Philadelph...         321   \n",
       "\n",
       "                  category  \n",
       "0             Hiking Trail  \n",
       "1               Donut Shop  \n",
       "2              Coffee Shop  \n",
       "3       Chinese Restaurant  \n",
       "4  New American Restaurant  "
      ]
     },
     "execution_count": 29,
     "metadata": {},
     "output_type": "execute_result"
    }
   ],
   "source": [
    "phi_stn_poi = pd.DataFrame(POI_results)\n",
    "phi_stn_poi.head()"
   ]
  },
  {
   "cell_type": "code",
   "execution_count": null,
   "metadata": {},
   "outputs": [],
   "source": []
  },
  {
   "cell_type": "code",
   "execution_count": 47,
   "metadata": {},
   "outputs": [],
   "source": [
    "foodbev_philly = phi_stn_poi[phi_stn_poi[\"category\"].str.contains(\"restaurant|café|coffee|bar\", case=False, na=False)]"
   ]
  },
  {
   "cell_type": "code",
   "execution_count": 48,
   "metadata": {},
   "outputs": [
    {
     "data": {
      "text/html": [
       "<div>\n",
       "<style scoped>\n",
       "    .dataframe tbody tr th:only-of-type {\n",
       "        vertical-align: middle;\n",
       "    }\n",
       "\n",
       "    .dataframe tbody tr th {\n",
       "        vertical-align: top;\n",
       "    }\n",
       "\n",
       "    .dataframe thead th {\n",
       "        text-align: right;\n",
       "    }\n",
       "</style>\n",
       "<table border=\"1\" class=\"dataframe\">\n",
       "  <thead>\n",
       "    <tr style=\"text-align: right;\">\n",
       "      <th></th>\n",
       "      <th>station_name</th>\n",
       "      <th>place_name</th>\n",
       "      <th>latitude</th>\n",
       "      <th>longitude</th>\n",
       "      <th>address</th>\n",
       "      <th>distance_m</th>\n",
       "      <th>category</th>\n",
       "    </tr>\n",
       "  </thead>\n",
       "  <tbody>\n",
       "    <tr>\n",
       "      <th>2</th>\n",
       "      <td>Ridge &amp; Heritage</td>\n",
       "      <td>Thunder Mug Cafe</td>\n",
       "      <td>40.009411</td>\n",
       "      <td>-75.194689</td>\n",
       "      <td>4233 Ridge Ave, Philadelphia, PA 19129</td>\n",
       "      <td>216</td>\n",
       "      <td>Coffee Shop</td>\n",
       "    </tr>\n",
       "    <tr>\n",
       "      <th>3</th>\n",
       "      <td>Ridge &amp; Heritage</td>\n",
       "      <td>Shan Chuan</td>\n",
       "      <td>40.009166</td>\n",
       "      <td>-75.194114</td>\n",
       "      <td>4211 Ridge Ave (Midvale Ave.), Philadelphia, P...</td>\n",
       "      <td>272</td>\n",
       "      <td>Chinese Restaurant</td>\n",
       "    </tr>\n",
       "    <tr>\n",
       "      <th>4</th>\n",
       "      <td>Ridge &amp; Heritage</td>\n",
       "      <td>LeBus East Falls</td>\n",
       "      <td>40.008862</td>\n",
       "      <td>-75.193664</td>\n",
       "      <td>4201 Ridge Ave (Indian Queen Lane), Philadelph...</td>\n",
       "      <td>321</td>\n",
       "      <td>New American Restaurant</td>\n",
       "    </tr>\n",
       "    <tr>\n",
       "      <th>20</th>\n",
       "      <td>Huntingdon &amp; Collins</td>\n",
       "      <td>Cook and Shaker</td>\n",
       "      <td>39.982695</td>\n",
       "      <td>-75.120702</td>\n",
       "      <td>2301 E Albert St (at Tulip St), Philadelphia, ...</td>\n",
       "      <td>310</td>\n",
       "      <td>American Restaurant</td>\n",
       "    </tr>\n",
       "    <tr>\n",
       "      <th>24</th>\n",
       "      <td>Huntingdon &amp; Collins</td>\n",
       "      <td>Atlantis: The Lost Bar</td>\n",
       "      <td>39.982340</td>\n",
       "      <td>-75.126862</td>\n",
       "      <td>2442 Frankford Ave, Philadelphia, PA 19125</td>\n",
       "      <td>375</td>\n",
       "      <td>Bar</td>\n",
       "    </tr>\n",
       "  </tbody>\n",
       "</table>\n",
       "</div>"
      ],
      "text/plain": [
       "            station_name              place_name   latitude  longitude  \\\n",
       "2       Ridge & Heritage        Thunder Mug Cafe  40.009411 -75.194689   \n",
       "3       Ridge & Heritage              Shan Chuan  40.009166 -75.194114   \n",
       "4       Ridge & Heritage        LeBus East Falls  40.008862 -75.193664   \n",
       "20  Huntingdon & Collins         Cook and Shaker  39.982695 -75.120702   \n",
       "24  Huntingdon & Collins  Atlantis: The Lost Bar  39.982340 -75.126862   \n",
       "\n",
       "                                              address  distance_m  \\\n",
       "2              4233 Ridge Ave, Philadelphia, PA 19129         216   \n",
       "3   4211 Ridge Ave (Midvale Ave.), Philadelphia, P...         272   \n",
       "4   4201 Ridge Ave (Indian Queen Lane), Philadelph...         321   \n",
       "20  2301 E Albert St (at Tulip St), Philadelphia, ...         310   \n",
       "24         2442 Frankford Ave, Philadelphia, PA 19125         375   \n",
       "\n",
       "                   category  \n",
       "2               Coffee Shop  \n",
       "3        Chinese Restaurant  \n",
       "4   New American Restaurant  \n",
       "20      American Restaurant  \n",
       "24                      Bar  "
      ]
     },
     "execution_count": 48,
     "metadata": {},
     "output_type": "execute_result"
    }
   ],
   "source": [
    "foodbev_philly.head()"
   ]
  },
  {
   "cell_type": "code",
   "execution_count": null,
   "metadata": {},
   "outputs": [],
   "source": []
  },
  {
   "cell_type": "code",
   "execution_count": 52,
   "metadata": {},
   "outputs": [],
   "source": [
    "foodbev_philly.to_csv(\"fs_phi_poi_clean.csv\")\n",
    "phi_stn_poi.to_csv(\"fs_phi_poi_raw.csv\")"
   ]
  },
  {
   "cell_type": "markdown",
   "metadata": {},
   "source": [
    "# Yelp"
   ]
  },
  {
   "cell_type": "code",
   "execution_count": null,
   "metadata": {
    "jupyter": {
     "source_hidden": true
    }
   },
   "outputs": [],
   "source": []
  },
  {
   "cell_type": "markdown",
   "metadata": {},
   "source": [
    "Send a request to Yelp with a small radius (1000m) for all the bike stations in your city of choice. "
   ]
  },
  {
   "cell_type": "code",
   "execution_count": null,
   "metadata": {},
   "outputs": [],
   "source": []
  },
  {
   "cell_type": "markdown",
   "metadata": {},
   "source": [
    "Parse through the response to get the POI (such as restaurants, bars, etc) details you want (ratings, name, location, etc)"
   ]
  },
  {
   "cell_type": "code",
   "execution_count": null,
   "metadata": {},
   "outputs": [],
   "source": []
  },
  {
   "cell_type": "markdown",
   "metadata": {},
   "source": [
    "Put your parsed results into a DataFrame"
   ]
  },
  {
   "cell_type": "markdown",
   "metadata": {},
   "source": []
  },
  {
   "cell_type": "markdown",
   "metadata": {},
   "source": [
    "# Comparing Results"
   ]
  },
  {
   "cell_type": "markdown",
   "metadata": {},
   "source": [
    "Which API provided you with more complete data? Provide an explanation. "
   ]
  },
  {
   "cell_type": "markdown",
   "metadata": {},
   "source": []
  },
  {
   "cell_type": "markdown",
   "metadata": {},
   "source": [
    "Get the top 10 restaurants according to their rating"
   ]
  },
  {
   "cell_type": "code",
   "execution_count": null,
   "metadata": {},
   "outputs": [],
   "source": []
  }
 ],
 "metadata": {
  "kernelspec": {
   "display_name": "Python 3 (ipykernel)",
   "language": "python",
   "name": "python3"
  },
  "language_info": {
   "codemirror_mode": {
    "name": "ipython",
    "version": 3
   },
   "file_extension": ".py",
   "mimetype": "text/x-python",
   "name": "python",
   "nbconvert_exporter": "python",
   "pygments_lexer": "ipython3",
   "version": "3.13.5"
  }
 },
 "nbformat": 4,
 "nbformat_minor": 4
}
