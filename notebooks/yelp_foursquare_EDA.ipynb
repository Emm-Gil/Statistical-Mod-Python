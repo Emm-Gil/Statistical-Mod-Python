{
 "cells": [
  {
   "cell_type": "markdown",
   "metadata": {},
   "source": [
    "# Foursquare"
   ]
  },
  {
   "cell_type": "markdown",
   "metadata": {},
   "source": [
    "Send a request to Foursquare with a small radius (1000m) for all the bike stations in your city of choice. "
   ]
  },
  {
   "cell_type": "code",
   "execution_count": null,
   "metadata": {
    "jupyter": {
     "source_hidden": true
    }
   },
   "outputs": [],
   "source": [
    "!pip install python-dotenv"
   ]
  },
  {
   "cell_type": "code",
   "execution_count": 3,
   "metadata": {},
   "outputs": [],
   "source": [
    "import pandas as pd\n",
    "import requests\n",
    "import time\n",
    "## importing necessary packages "
   ]
  },
  {
   "cell_type": "code",
   "execution_count": null,
   "metadata": {},
   "outputs": [],
   "source": [
    "from dotenv import load_dotenv\n",
    "import os\n",
    "# load environment variables from .env file\n",
    "load_dotenv()\n",
    "FS_API_KEY = os.getenv(\"FS_API_KEY\")\n",
    "\n",
    "# loading CityBikes data for Philadelphia, PA\n",
    "bike_stations_philly = pd.read_csv(\"../data/philly.csv\")\n",
    "bike_stations_philly\n",
    "\n",
    "# setting up FourSquare API request\n",
    "url = \"https://places-api.foursquare.com/places/search\"\n",
    "headers = {\n",
    "    \"Authorization\": f\"Bearer {FS_API_KEY}\",\n",
    "    \"X-Places-API-Version\": \"2025-06-17\"\n",
    "}\n",
    "\n",
    "FS_results = []\n",
    "\n",
    "# looping through each station in previously loaded CityBikes data and sending the requests to the FourSquare API\n",
    "for i, row in bike_stations_philly.iterrows():\n",
    "    lat, lon = row['latitude'], row['longitude']\n",
    "    # defining API request parameters\n",
    "    params = {\n",
    "        \"ll\": f\"{lat},{lon}\",\n",
    "        \"radius\": 1000,\n",
    "        \"limit\": 10\n",
    "    }\n",
    "    \n",
    "#  sending GET request to FourSquare API    \n",
    "    response = requests.get(url, headers=headers, params=params)\n",
    "    data = response.json()\n",
    "\n",
    "#  appending each returned place with the corresponding bike station name    \n",
    "    for place in data.get(\"results\", []):\n",
    "        place[\"station_name\"] = row[\"name\"]\n",
    "        FS_results.append(place)"
   ]
  },
  {
   "cell_type": "markdown",
   "metadata": {},
   "source": [
    "Parse through the response to get the POI (such as restaurants, bars, etc) details you want (ratings, name, location, etc)"
   ]
  },
  {
   "cell_type": "code",
   "execution_count": null,
   "metadata": {},
   "outputs": [],
   "source": [
    "FS_POI_results = []\n",
    "\n",
    "# looping through the FourSquare results\n",
    "for place in FS_results:\n",
    "    # extracting and cleaning the place category\n",
    "    categories = place.get(\"categories\")\n",
    "    if categories and len(categories) > 0:\n",
    "        category_name = categories[0].get(\"name\", \"Unknown\")\n",
    "    else:\n",
    "        category_name = \"Unknown\"\n",
    "        \n",
    "    # creating a dictionary for each POI\n",
    "    fs_poi_dict = {\n",
    "        \"station_name\": place.get(\"station_name\"),\n",
    "        \"poi_name\": place.get(\"name\"),\n",
    "        \"latitude\": place.get(\"latitude\"),\n",
    "        \"longitude\": place.get(\"longitude\"),\n",
    "        \"address\": place.get(\"location\", {}).get(\"formatted_address\"),\n",
    "        \"distance_m\": place.get(\"distance\"),\n",
    "        \"category\": category_name\n",
    "    }\n",
    "    FS_POI_results.append(fs_poi_dict)"
   ]
  },
  {
   "cell_type": "markdown",
   "metadata": {},
   "source": [
    "Put your parsed results into a DataFrame"
   ]
  },
  {
   "cell_type": "code",
   "execution_count": null,
   "metadata": {},
   "outputs": [],
   "source": [
    "# converting parsed FourSquare results into a DataFrame\n",
    "phi_stn_poi = pd.DataFrame(FS_POI_results)\n",
    "phi_stn_poi.head() # confirming everything went as expected"
   ]
  },
  {
   "cell_type": "code",
   "execution_count": null,
   "metadata": {},
   "outputs": [],
   "source": [
    "# filtering for places associated with the food & beverage industry\n",
    "foodbev_philly = phi_stn_poi[phi_stn_poi[\"category\"].str.contains(\"restaurant|café|coffee|bar\", case=False, na=False)]\n",
    "foodbev_philly.head() # confirming everything went as expected"
   ]
  },
  {
   "cell_type": "code",
   "execution_count": null,
   "metadata": {},
   "outputs": [],
   "source": [
    "# saving both filtered and raw FourSquare data to CSV\n",
    "foodbev_philly.to_csv(\"fs_phi_poi_clean.csv\") # filtered\n",
    "phi_stn_poi.to_csv(\"fs_phi_poi_raw.csv\") # raw"
   ]
  },
  {
   "cell_type": "markdown",
   "metadata": {},
   "source": [
    "# Yelp"
   ]
  },
  {
   "cell_type": "markdown",
   "metadata": {},
   "source": [
    "Send a request to Yelp with a small radius (1000m) for all the bike stations in your city of choice. "
   ]
  },
  {
   "cell_type": "code",
   "execution_count": 39,
   "metadata": {},
   "outputs": [],
   "source": [
    "from dotenv import load_dotenv\n",
    "import os\n",
    "\n",
    "## load environment variables from .env file\n",
    "load_dotenv()\n",
    "YP_API_KEY = os.getenv(\"YP_API_KEY\")\n",
    "\n",
    "# loading CityBikes data for Philadelphia, PA\n",
    "bike_stations_philly = pd.read_csv(\"../data/philly.csv\")\n",
    "bike_stations_philly\n",
    "\n",
    "# setting up Yelp API request\n",
    "url = \"https://api.yelp.com/v3/businesses/search\"\n",
    "headers = {\"Authorization\": f\"Bearer {YP_API_KEY}\"\n",
    "    }\n",
    "\n",
    "yelp_results = []\n",
    "\n",
    "# looping through each station in previously loaded CityBikes data and sending the requests to the Yelp API\n",
    "for i, row in bike_stations_philly.iterrows():\n",
    "    lat, lon = row[\"latitude\"], row[\"longitude\"]\n",
    "    #defining API request parameters\n",
    "    params = {\n",
    "        \"latitude\": lat,\n",
    "        \"longitude\": lon,\n",
    "        \"radius\": 1000,\n",
    "        \"term\": \"restaurants,cafes,coffee,beer_and_wine,brewpubs,bars\",\n",
    "        \"limit\": 10\n",
    "    }\n",
    "\n",
    "#  sending GET request to Yelp API\n",
    "    response = requests.get(url, headers=headers, params=params)\n",
    "    data = response.json()\n",
    "\n",
    "#  appending each returned place with the corresponding bike station name    \n",
    "    for business in data.get(\"businesses\", []):\n",
    "        business[\"station_name\"] = row[\"name\"]  \n",
    "        yelp_results.append(business)\n"
   ]
  },
  {
   "cell_type": "markdown",
   "metadata": {},
   "source": [
    "Parse through the response to get the POI (such as restaurants, bars, etc) details you want (ratings, name, location, etc)"
   ]
  },
  {
   "cell_type": "code",
   "execution_count": 24,
   "metadata": {},
   "outputs": [],
   "source": [
    "YP_POI_results = []\n",
    "\n",
    "#looping through the Yelp results\n",
    "for business in yelp_results:  \n",
    "    # creating a dictionary for each POI\n",
    "    yp_poi_dict = {\n",
    "        \"station_name\": business.get(\"station_name\"),\n",
    "        \"distance_to\": business.get(\"distance\"),\n",
    "        \"business_id\": business.get(\"id\"),\n",
    "        \"name\": business.get(\"name\"),\n",
    "        \"price\": business.get(\"price\", \"Unknown\"),\n",
    "        \"rating\": business.get(\"rating\"),\n",
    "        \"review_count\": business.get(\"review_count\"),\n",
    "        \"address\": \", \".join(business.get(\"location\", {}).get(\"display_address\", [])),\n",
    "        \"category\": \", \".join([cat.get(\"title\", \"\") for cat in business.get(\"categories\", [])]) # combining categories as strings\n",
    "    }\n",
    "    YP_POI_results.append(yp_poi_dict)"
   ]
  },
  {
   "cell_type": "markdown",
   "metadata": {},
   "source": [
    "Put your parsed results into a DataFrame"
   ]
  },
  {
   "cell_type": "code",
   "execution_count": 47,
   "metadata": {},
   "outputs": [
    {
     "data": {
      "text/html": [
       "<div>\n",
       "<style scoped>\n",
       "    .dataframe tbody tr th:only-of-type {\n",
       "        vertical-align: middle;\n",
       "    }\n",
       "\n",
       "    .dataframe tbody tr th {\n",
       "        vertical-align: top;\n",
       "    }\n",
       "\n",
       "    .dataframe thead th {\n",
       "        text-align: right;\n",
       "    }\n",
       "</style>\n",
       "<table border=\"1\" class=\"dataframe\">\n",
       "  <thead>\n",
       "    <tr style=\"text-align: right;\">\n",
       "      <th></th>\n",
       "      <th>station_name</th>\n",
       "      <th>distance_to</th>\n",
       "      <th>business_id</th>\n",
       "      <th>name</th>\n",
       "      <th>price</th>\n",
       "      <th>rating</th>\n",
       "      <th>review_count</th>\n",
       "      <th>address</th>\n",
       "      <th>category</th>\n",
       "    </tr>\n",
       "  </thead>\n",
       "  <tbody>\n",
       "    <tr>\n",
       "      <th>0</th>\n",
       "      <td>21st &amp; Passyunk</td>\n",
       "      <td>833.561145</td>\n",
       "      <td>vq73W-SHrwBgXzQ__0yV2w</td>\n",
       "      <td>Second District Brewing</td>\n",
       "      <td>$$</td>\n",
       "      <td>4.1</td>\n",
       "      <td>126</td>\n",
       "      <td>1939 S Bancroft St, Philadelphia, PA 19145</td>\n",
       "      <td>Breweries, Beer Bar, American</td>\n",
       "    </tr>\n",
       "    <tr>\n",
       "      <th>1</th>\n",
       "      <td>Huntingdon &amp; Collins</td>\n",
       "      <td>1317.002292</td>\n",
       "      <td>BPBTCvmUfRnEH6yyABzOzA</td>\n",
       "      <td>Evil Genius Beer</td>\n",
       "      <td>$$</td>\n",
       "      <td>4.1</td>\n",
       "      <td>317</td>\n",
       "      <td>1727 N Front St, Philadelphia, PA 19122</td>\n",
       "      <td>Breweries, Beer Gardens</td>\n",
       "    </tr>\n",
       "    <tr>\n",
       "      <th>2</th>\n",
       "      <td>Huntingdon &amp; Collins</td>\n",
       "      <td>1481.975664</td>\n",
       "      <td>LO5yBY9uoowtq7FsaKPJXA</td>\n",
       "      <td>Kraftwork</td>\n",
       "      <td>$$</td>\n",
       "      <td>4.1</td>\n",
       "      <td>590</td>\n",
       "      <td>541 E Girard Ave, Philadelphia, PA 19125</td>\n",
       "      <td>Gastropubs, New American, Breakfast &amp; Brunch</td>\n",
       "    </tr>\n",
       "    <tr>\n",
       "      <th>3</th>\n",
       "      <td>Main &amp; Shurs</td>\n",
       "      <td>69.041297</td>\n",
       "      <td>ZGH8MzJa7Q7iIpmtzBAJAQ</td>\n",
       "      <td>Manayunk Brewery</td>\n",
       "      <td>$$</td>\n",
       "      <td>3.4</td>\n",
       "      <td>811</td>\n",
       "      <td>4120 Main St, Philadelphia, PA 19127</td>\n",
       "      <td>New American, Breweries, American</td>\n",
       "    </tr>\n",
       "    <tr>\n",
       "      <th>4</th>\n",
       "      <td>University City Station</td>\n",
       "      <td>1388.514697</td>\n",
       "      <td>Cmfs_i-FtaR6O1C07OEcOg</td>\n",
       "      <td>Dock Street Brewery South</td>\n",
       "      <td>$$</td>\n",
       "      <td>3.7</td>\n",
       "      <td>134</td>\n",
       "      <td>2118 Washington Ave, Philadelphia, PA 19146</td>\n",
       "      <td>Venues &amp; Event Spaces, Brewpubs</td>\n",
       "    </tr>\n",
       "  </tbody>\n",
       "</table>\n",
       "</div>"
      ],
      "text/plain": [
       "              station_name  distance_to             business_id  \\\n",
       "0          21st & Passyunk   833.561145  vq73W-SHrwBgXzQ__0yV2w   \n",
       "1     Huntingdon & Collins  1317.002292  BPBTCvmUfRnEH6yyABzOzA   \n",
       "2     Huntingdon & Collins  1481.975664  LO5yBY9uoowtq7FsaKPJXA   \n",
       "3             Main & Shurs    69.041297  ZGH8MzJa7Q7iIpmtzBAJAQ   \n",
       "4  University City Station  1388.514697  Cmfs_i-FtaR6O1C07OEcOg   \n",
       "\n",
       "                        name price  rating  review_count  \\\n",
       "0    Second District Brewing    $$     4.1           126   \n",
       "1           Evil Genius Beer    $$     4.1           317   \n",
       "2                  Kraftwork    $$     4.1           590   \n",
       "3           Manayunk Brewery    $$     3.4           811   \n",
       "4  Dock Street Brewery South    $$     3.7           134   \n",
       "\n",
       "                                       address  \\\n",
       "0   1939 S Bancroft St, Philadelphia, PA 19145   \n",
       "1      1727 N Front St, Philadelphia, PA 19122   \n",
       "2     541 E Girard Ave, Philadelphia, PA 19125   \n",
       "3         4120 Main St, Philadelphia, PA 19127   \n",
       "4  2118 Washington Ave, Philadelphia, PA 19146   \n",
       "\n",
       "                                       category  \n",
       "0                 Breweries, Beer Bar, American  \n",
       "1                       Breweries, Beer Gardens  \n",
       "2  Gastropubs, New American, Breakfast & Brunch  \n",
       "3             New American, Breweries, American  \n",
       "4               Venues & Event Spaces, Brewpubs  "
      ]
     },
     "execution_count": 47,
     "metadata": {},
     "output_type": "execute_result"
    }
   ],
   "source": [
    "# converting parsed FourSquare results into a DataFrame\n",
    "yelp_phi_poi = pd.DataFrame(YP_POI_results)\n",
    "yelp_phi_poi.head() # confirming everything went as expected"
   ]
  },
  {
   "cell_type": "code",
   "execution_count": 45,
   "metadata": {},
   "outputs": [
    {
     "name": "stdout",
     "output_type": "stream",
     "text": [
      "Number of Yelp POIs after cleaning per-station: 437\n"
     ]
    }
   ],
   "source": [
    "# sorting by closest business to each station\n",
    "yelp_sorted = yelp_phi_poi.sort_values(by=\"distance_to\")\n",
    "\n",
    "# removing duplicate business_id within each station, keeping the closest one\n",
    "yelp_unique_biz = yelp_sorted.drop_duplicates(subset=[\"station_name\", \"business_id\"], keep=\"first\")\n",
    "\n",
    "# checking how many rows are retained \n",
    "print(\"Number of Yelp POIs after cleaning per-station:\", len(yelp_unique_biz))"
   ]
  },
  {
   "cell_type": "code",
   "execution_count": 32,
   "metadata": {},
   "outputs": [],
   "source": [
    "# saving yelp data as a CSV\n",
    "yelp_unique_biz.to_csv(\"yp_phi_poi_clean.csv\")"
   ]
  },
  {
   "cell_type": "code",
   "execution_count": null,
   "metadata": {},
   "outputs": [],
   "source": []
  },
  {
   "cell_type": "code",
   "execution_count": 37,
   "metadata": {},
   "outputs": [
    {
     "name": "stdout",
     "output_type": "stream",
     "text": [
      "221                    Bar Hygge\n",
      "349        Yards Brewing Company\n",
      "257              Khyber Pass Pub\n",
      "39                     Kraftwork\n",
      "163      Second District Brewing\n",
      "74              Evil Genius Beer\n",
      "418                  Monk's Cafe\n",
      "246    McGillin's Olde Ale House\n",
      "279    Dock Street Brewery South\n",
      "3               Manayunk Brewery\n",
      "Name: name, dtype: object\n"
     ]
    }
   ],
   "source": [
    "#Top Ten Restaurants based on Ratings\n",
    "\n",
    "top_10 = yelp_unique_biz.sort_values(by=\"rating\", ascending = False).head(10)\n",
    "print(top_10[\"name\"])"
   ]
  }
 ],
 "metadata": {
  "kernelspec": {
   "display_name": "Python 3 (ipykernel)",
   "language": "python",
   "name": "python3"
  },
  "language_info": {
   "codemirror_mode": {
    "name": "ipython",
    "version": 3
   },
   "file_extension": ".py",
   "mimetype": "text/x-python",
   "name": "python",
   "nbconvert_exporter": "python",
   "pygments_lexer": "ipython3",
   "version": "3.13.5"
  }
 },
 "nbformat": 4,
 "nbformat_minor": 4
}
