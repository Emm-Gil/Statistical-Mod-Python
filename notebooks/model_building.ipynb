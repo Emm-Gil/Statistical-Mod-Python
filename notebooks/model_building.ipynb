{
 "cells": [
  {
   "cell_type": "markdown",
   "metadata": {},
   "source": [
    "Build a regression model."
   ]
  },
  {
   "cell_type": "code",
   "execution_count": null,
   "metadata": {},
   "outputs": [],
   "source": [
    "!pip install statsmodels;"
   ]
  },
  {
   "cell_type": "code",
   "execution_count": 4,
   "metadata": {},
   "outputs": [],
   "source": [
    "import pandas as pd\n",
    "# loading necessary CSV files\n",
    "station_summary = pd.read_csv(\"../data/station_summary.csv\")\n",
    "full_combined_clean = pd.read_csv(\"../data/combined_all.csv\")\n",
    "\n",
    "# creating new columns for additional insights to use in regression model\n",
    "avg_rating = full_combined_clean.groupby(\"station_name\")[\"rating\"].mean().reset_index(name=\"avg_rating\")\n",
    "total_reviews = full_combined_clean.groupby(\"station_name\")[\"review_count\"].sum().reset_index(name=\"review_count_sum\")\n",
    "\n",
    "# merging new columns\n",
    "station_summary = station_summary.merge(avg_rating, on=\"station_name\", how=\"left\")\n",
    "station_summary = station_summary.merge(total_reviews, on=\"station_name\", how=\"left\")\n",
    "\n",
    "# building regression model\n",
    "import statsmodels.api as sm\n",
    "X = station_summary[[\"poi_count\", \"avg_rating\", \"review_count_sum\"]]\n",
    "X = sm.add_constant(X)\n",
    "y = station_summary[\"num_bikes\"]"
   ]
  },
  {
   "cell_type": "markdown",
   "metadata": {},
   "source": [
    "Provide model output and an interpretation of the results. "
   ]
  },
  {
   "cell_type": "code",
   "execution_count": 6,
   "metadata": {},
   "outputs": [
    {
     "name": "stdout",
     "output_type": "stream",
     "text": [
      "                            OLS Regression Results                            \n",
      "==============================================================================\n",
      "Dep. Variable:              num_bikes   R-squared:                       0.053\n",
      "Model:                            OLS   Adj. R-squared:                  0.033\n",
      "Method:                 Least Squares   F-statistic:                     2.624\n",
      "Date:                Mon, 28 Jul 2025   Prob (F-statistic):             0.0529\n",
      "Time:                        16:35:14   Log-Likelihood:                -425.79\n",
      "No. Observations:                 146   AIC:                             859.6\n",
      "Df Residuals:                     142   BIC:                             871.5\n",
      "Df Model:                           3                                         \n",
      "Covariance Type:            nonrobust                                         \n",
      "====================================================================================\n",
      "                       coef    std err          t      P>|t|      [0.025      0.975]\n",
      "------------------------------------------------------------------------------------\n",
      "const               13.4957      7.489      1.802      0.074      -1.309      28.300\n",
      "poi_count            0.4320      0.222      1.944      0.054      -0.007       0.871\n",
      "avg_rating          -1.7023      1.819     -0.936      0.351      -5.299       1.894\n",
      "review_count_sum    -0.0004      0.000     -1.847      0.067      -0.001     2.7e-05\n",
      "==============================================================================\n",
      "Omnibus:                       22.727   Durbin-Watson:                   1.783\n",
      "Prob(Omnibus):                  0.000   Jarque-Bera (JB):               28.379\n",
      "Skew:                           0.947   Prob(JB):                     6.88e-07\n",
      "Kurtosis:                       4.038   Cond. No.                     6.06e+04\n",
      "==============================================================================\n",
      "\n",
      "Notes:\n",
      "[1] Standard Errors assume that the covariance matrix of the errors is correctly specified.\n",
      "[2] The condition number is large, 6.06e+04. This might indicate that there are\n",
      "strong multicollinearity or other numerical problems.\n"
     ]
    }
   ],
   "source": [
    "# dropping any rows with missing data\n",
    "regression_df = pd.concat([X, y], axis=1).dropna()\n",
    "\n",
    "# redefining X and y\n",
    "X_clean = regression_df[X.columns]\n",
    "y_clean = regression_df[y.name]\n",
    "\n",
    "# running regression model\n",
    "model = sm.OLS(y_clean, X_clean).fit()\n",
    "print(model.summary())"
   ]
  },
  {
   "cell_type": "code",
   "execution_count": 7,
   "metadata": {},
   "outputs": [
    {
     "name": "stdout",
     "output_type": "stream",
     "text": [
      "                            OLS Regression Results                            \n",
      "==============================================================================\n",
      "Dep. Variable:              num_bikes   R-squared:                       0.043\n",
      "Model:                            OLS   Adj. R-squared:                  0.034\n",
      "Method:                 Least Squares   F-statistic:                     4.627\n",
      "Date:                Mon, 28 Jul 2025   Prob (F-statistic):             0.0108\n",
      "Time:                        16:41:38   Log-Likelihood:                -614.90\n",
      "No. Observations:                 207   AIC:                             1236.\n",
      "Df Residuals:                     204   BIC:                             1246.\n",
      "Df Model:                           2                                         \n",
      "Covariance Type:            nonrobust                                         \n",
      "====================================================================================\n",
      "                       coef    std err          t      P>|t|      [0.025      0.975]\n",
      "------------------------------------------------------------------------------------\n",
      "const                4.7513      0.684      6.944      0.000       3.402       6.100\n",
      "poi_count            0.6146      0.202      3.038      0.003       0.216       1.013\n",
      "review_count_sum -2.138e-05      0.000     -0.119      0.905      -0.000       0.000\n",
      "==============================================================================\n",
      "Omnibus:                       72.020   Durbin-Watson:                   1.846\n",
      "Prob(Omnibus):                  0.000   Jarque-Bera (JB):              229.970\n",
      "Skew:                           1.434   Prob(JB):                     1.16e-50\n",
      "Kurtosis:                       7.294   Cond. No.                     5.27e+03\n",
      "==============================================================================\n",
      "\n",
      "Notes:\n",
      "[1] Standard Errors assume that the covariance matrix of the errors is correctly specified.\n",
      "[2] The condition number is large, 5.27e+03. This might indicate that there are\n",
      "strong multicollinearity or other numerical problems.\n"
     ]
    }
   ],
   "source": [
    "# rebuilding the model without avg_rating (had a 0.351 p-value and may be one of the culprits in the multicollinearity)\n",
    "X_reduced = station_summary[[\"poi_count\", \"review_count_sum\"]]\n",
    "X_reduced = sm.add_constant(X_reduced)\n",
    "y = station_summary[\"num_bikes\"]\n",
    "\n",
    "# dropping any rows with missing data\n",
    "regression_df_reduced = pd.concat([X_reduced, y], axis=1).dropna()\n",
    "X_clean = regression_df_reduced[X_reduced.columns]\n",
    "y_clean = regression_df_reduced[y.name]\n",
    "\n",
    "# running the model\n",
    "model_reduced = sm.OLS(y_clean, X_clean).fit()\n",
    "print(model_reduced.summary())"
   ]
  },
  {
   "cell_type": "code",
   "execution_count": 8,
   "metadata": {},
   "outputs": [
    {
     "name": "stdout",
     "output_type": "stream",
     "text": [
      "                            OLS Regression Results                            \n",
      "==============================================================================\n",
      "Dep. Variable:              num_bikes   R-squared:                       0.043\n",
      "Model:                            OLS   Adj. R-squared:                  0.039\n",
      "Method:                 Least Squares   F-statistic:                     9.284\n",
      "Date:                Mon, 28 Jul 2025   Prob (F-statistic):            0.00262\n",
      "Time:                        16:43:36   Log-Likelihood:                -614.91\n",
      "No. Observations:                 207   AIC:                             1234.\n",
      "Df Residuals:                     205   BIC:                             1240.\n",
      "Df Model:                           1                                         \n",
      "Covariance Type:            nonrobust                                         \n",
      "==============================================================================\n",
      "                 coef    std err          t      P>|t|      [0.025      0.975]\n",
      "------------------------------------------------------------------------------\n",
      "const          4.7218      0.637      7.416      0.000       3.466       5.977\n",
      "poi_count      0.6125      0.201      3.047      0.003       0.216       1.009\n",
      "==============================================================================\n",
      "Omnibus:                       72.132   Durbin-Watson:                   1.847\n",
      "Prob(Omnibus):                  0.000   Jarque-Bera (JB):              231.615\n",
      "Skew:                           1.434   Prob(JB):                     5.08e-51\n",
      "Kurtosis:                       7.316   Cond. No.                         6.58\n",
      "==============================================================================\n",
      "\n",
      "Notes:\n",
      "[1] Standard Errors assume that the covariance matrix of the errors is correctly specified.\n"
     ]
    }
   ],
   "source": [
    "# finalizing and rebuilding the model with only poi_count\n",
    "X_final = station_summary[[\"poi_count\"]]\n",
    "X_final = sm.add_constant(X_final)\n",
    "regression_df_final = pd.concat([X_final, y], axis=1).dropna()\n",
    "\n",
    "X_clean = regression_df_final[X_final.columns]\n",
    "y_clean = regression_df_final[y.name]\n",
    "\n",
    "model_final = sm.OLS(y_clean, X_clean).fit()\n",
    "print(model_final.summary())"
   ]
  },
  {
   "cell_type": "markdown",
   "metadata": {},
   "source": [
    "### Across all three models, the number of nearby POIs was the only consistent and \"significant\" predictor of bike availability, suggesting that stations in denser areas are more likely to be well-stocked with bikes."
   ]
  }
 ],
 "metadata": {
  "kernelspec": {
   "display_name": "Python 3 (ipykernel)",
   "language": "python",
   "name": "python3"
  },
  "language_info": {
   "codemirror_mode": {
    "name": "ipython",
    "version": 3
   },
   "file_extension": ".py",
   "mimetype": "text/x-python",
   "name": "python",
   "nbconvert_exporter": "python",
   "pygments_lexer": "ipython3",
   "version": "3.13.5"
  }
 },
 "nbformat": 4,
 "nbformat_minor": 4
}
