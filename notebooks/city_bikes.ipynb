{
 "cells": [
  {
   "cell_type": "markdown",
   "metadata": {},
   "source": [
    "# CityBikes"
   ]
  },
  {
   "cell_type": "markdown",
   "metadata": {},
   "source": [
    "Send a request to CityBikes for the city of your choice. "
   ]
  },
  {
   "cell_type": "code",
   "execution_count": 2,
   "metadata": {},
   "outputs": [],
   "source": [
    "import requests\n",
    "from IPython.display import JSON\n",
    "from pprint import pprint"
   ]
  },
  {
   "cell_type": "code",
   "execution_count": 6,
   "metadata": {},
   "outputs": [
    {
     "data": {
      "text/plain": [
       "{'id': '0153dd3980eae953cbaf00b42969224f',\n",
       " 'name': 'Ridge & Heritage',\n",
       " 'latitude': 40.01022,\n",
       " 'longitude': -75.197,\n",
       " 'timestamp': '2025-07-25T22:48:26.850095+00:00Z',\n",
       " 'free_bikes': 11,\n",
       " 'empty_slots': 4,\n",
       " 'extra': {'uid': 'bcycle_indego_3291',\n",
       "  'renting': 1,\n",
       "  'returning': 1,\n",
       "  'last_updated': 1753483706,\n",
       "  'address': '4341 Ridge Avenue',\n",
       "  'rental_uris': {'android': 'https://www.bcycle.com/applink?system_id=bcycle_indego&station_id=bcycle_indego_3291&platform=android',\n",
       "   'ios': 'https://www.bcycle.com/applink?system_id=bcycle_indego&station_id=bcycle_indego_3291&platform=iOS'},\n",
       "  'virtual': False,\n",
       "  'has_ebikes': True,\n",
       "  'ebikes': 5,\n",
       "  'normal_bikes': 6}}"
      ]
     },
     "execution_count": 6,
     "metadata": {},
     "output_type": "execute_result"
    }
   ],
   "source": [
    "network_id = 'indego' # Phillidelphia, PA\n",
    "network_json = requests.get(\"http://api.citybik.es/v2/networks/\"+network_id).json()\n",
    "#pprint(network_json)\n",
    "\n",
    "network_json['network']['stations'][0]"
   ]
  },
  {
   "cell_type": "markdown",
   "metadata": {},
   "source": [
    "Parse through the response to get the details you want for the bike stations in that city (latitude, longitude, number of bikes). "
   ]
  },
  {
   "cell_type": "code",
   "execution_count": 7,
   "metadata": {},
   "outputs": [],
   "source": [
    "names = [station['name'] for station in network_json['network']['stations']]\n",
    "longitude = [station['longitude'] for station in network_json['network']['stations']]\n",
    "latitude = [station['latitude'] for station in network_json['network']['stations']]\n",
    "num_bikes = [station['free_bikes'] for station in network_json['network']['stations']]"
   ]
  },
  {
   "cell_type": "markdown",
   "metadata": {},
   "source": [
    "Put your parsed results into a DataFrame."
   ]
  },
  {
   "cell_type": "code",
   "execution_count": 16,
   "metadata": {},
   "outputs": [],
   "source": [
    "import pandas as pd\n",
    "df_philly = pd.DataFrame({'name' : names,'longitude' : longitude,'latitude' : latitude,'num_bikes' : num_bikes})"
   ]
  },
  {
   "cell_type": "code",
   "execution_count": 18,
   "metadata": {},
   "outputs": [],
   "source": [
    "df_philly.to_csv('philly.csv')"
   ]
  },
  {
   "cell_type": "code",
   "execution_count": 17,
   "metadata": {},
   "outputs": [
    {
     "data": {
      "text/html": [
       "<div>\n",
       "<style scoped>\n",
       "    .dataframe tbody tr th:only-of-type {\n",
       "        vertical-align: middle;\n",
       "    }\n",
       "\n",
       "    .dataframe tbody tr th {\n",
       "        vertical-align: top;\n",
       "    }\n",
       "\n",
       "    .dataframe thead th {\n",
       "        text-align: right;\n",
       "    }\n",
       "</style>\n",
       "<table border=\"1\" class=\"dataframe\">\n",
       "  <thead>\n",
       "    <tr style=\"text-align: right;\">\n",
       "      <th></th>\n",
       "      <th>name</th>\n",
       "      <th>longitude</th>\n",
       "      <th>latitude</th>\n",
       "      <th>num_bikes</th>\n",
       "    </tr>\n",
       "  </thead>\n",
       "  <tbody>\n",
       "    <tr>\n",
       "      <th>0</th>\n",
       "      <td>Ridge &amp; Heritage</td>\n",
       "      <td>-75.19700</td>\n",
       "      <td>40.01022</td>\n",
       "      <td>11</td>\n",
       "    </tr>\n",
       "    <tr>\n",
       "      <th>1</th>\n",
       "      <td>21st &amp; Passyunk</td>\n",
       "      <td>-75.18210</td>\n",
       "      <td>39.92327</td>\n",
       "      <td>9</td>\n",
       "    </tr>\n",
       "    <tr>\n",
       "      <th>2</th>\n",
       "      <td>Huntingdon &amp; Collins</td>\n",
       "      <td>-75.12348</td>\n",
       "      <td>39.98451</td>\n",
       "      <td>4</td>\n",
       "    </tr>\n",
       "    <tr>\n",
       "      <th>3</th>\n",
       "      <td>Philadelphia Zoo</td>\n",
       "      <td>-75.19781</td>\n",
       "      <td>39.97472</td>\n",
       "      <td>8</td>\n",
       "    </tr>\n",
       "    <tr>\n",
       "      <th>4</th>\n",
       "      <td>Main &amp; Shurs</td>\n",
       "      <td>-75.21800</td>\n",
       "      <td>40.02237</td>\n",
       "      <td>9</td>\n",
       "    </tr>\n",
       "    <tr>\n",
       "      <th>...</th>\n",
       "      <td>...</td>\n",
       "      <td>...</td>\n",
       "      <td>...</td>\n",
       "      <td>...</td>\n",
       "    </tr>\n",
       "    <tr>\n",
       "      <th>271</th>\n",
       "      <td>19th &amp; Oregon</td>\n",
       "      <td>-75.17960</td>\n",
       "      <td>39.91800</td>\n",
       "      <td>2</td>\n",
       "    </tr>\n",
       "    <tr>\n",
       "      <th>272</th>\n",
       "      <td>American &amp; Oxford</td>\n",
       "      <td>-75.14006</td>\n",
       "      <td>39.97502</td>\n",
       "      <td>9</td>\n",
       "    </tr>\n",
       "    <tr>\n",
       "      <th>273</th>\n",
       "      <td>44th &amp; Haverford</td>\n",
       "      <td>-75.21185</td>\n",
       "      <td>39.96277</td>\n",
       "      <td>1</td>\n",
       "    </tr>\n",
       "    <tr>\n",
       "      <th>274</th>\n",
       "      <td>26th &amp; Moore, Vare Recreation Center</td>\n",
       "      <td>-75.18924</td>\n",
       "      <td>39.93074</td>\n",
       "      <td>8</td>\n",
       "    </tr>\n",
       "    <tr>\n",
       "      <th>275</th>\n",
       "      <td>23rd &amp; Market</td>\n",
       "      <td>-75.17761</td>\n",
       "      <td>39.95425</td>\n",
       "      <td>5</td>\n",
       "    </tr>\n",
       "  </tbody>\n",
       "</table>\n",
       "<p>276 rows × 4 columns</p>\n",
       "</div>"
      ],
      "text/plain": [
       "                                     name  longitude  latitude  num_bikes\n",
       "0                        Ridge & Heritage  -75.19700  40.01022         11\n",
       "1                         21st & Passyunk  -75.18210  39.92327          9\n",
       "2                    Huntingdon & Collins  -75.12348  39.98451          4\n",
       "3                        Philadelphia Zoo  -75.19781  39.97472          8\n",
       "4                            Main & Shurs  -75.21800  40.02237          9\n",
       "..                                    ...        ...       ...        ...\n",
       "271                         19th & Oregon  -75.17960  39.91800          2\n",
       "272                     American & Oxford  -75.14006  39.97502          9\n",
       "273                      44th & Haverford  -75.21185  39.96277          1\n",
       "274  26th & Moore, Vare Recreation Center  -75.18924  39.93074          8\n",
       "275                         23rd & Market  -75.17761  39.95425          5\n",
       "\n",
       "[276 rows x 4 columns]"
      ]
     },
     "execution_count": 17,
     "metadata": {},
     "output_type": "execute_result"
    }
   ],
   "source": [
    "df_philly"
   ]
  },
  {
   "cell_type": "code",
   "execution_count": null,
   "metadata": {},
   "outputs": [],
   "source": []
  }
 ],
 "metadata": {
  "kernelspec": {
   "display_name": "Python 3 (ipykernel)",
   "language": "python",
   "name": "python3"
  },
  "language_info": {
   "codemirror_mode": {
    "name": "ipython",
    "version": 3
   },
   "file_extension": ".py",
   "mimetype": "text/x-python",
   "name": "python",
   "nbconvert_exporter": "python",
   "pygments_lexer": "ipython3",
   "version": "3.13.5"
  }
 },
 "nbformat": 4,
 "nbformat_minor": 4
}
